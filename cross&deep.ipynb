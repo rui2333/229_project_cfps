{
  "nbformat": 4,
  "nbformat_minor": 0,
  "metadata": {
    "colab": {
      "name": "cross&deep.ipynb",
      "provenance": [],
      "collapsed_sections": [],
      "mount_file_id": "1GgrtdNs7KCNKOyEguwhwpsMRaG9s5yh7",
      "authorship_tag": "ABX9TyMCw8bvG72C8ylCJ3k/TkmR",
      "include_colab_link": true
    },
    "kernelspec": {
      "name": "python3",
      "display_name": "Python 3"
    },
    "language_info": {
      "name": "python"
    }
  },
  "cells": [
    {
      "cell_type": "markdown",
      "metadata": {
        "id": "view-in-github",
        "colab_type": "text"
      },
      "source": [
        "<a href=\"https://colab.research.google.com/github/rui2333/229_project_cfps/blob/main/cross%26deep.ipynb\" target=\"_parent\"><img src=\"https://colab.research.google.com/assets/colab-badge.svg\" alt=\"Open In Colab\"/></a>"
      ]
    },
    {
      "cell_type": "markdown",
      "metadata": {
        "id": "oYUrNH8YSHsL"
      },
      "source": [
        "This note book focus on implementing DCN for the CFPS dataset.\n"
      ]
    },
    {
      "cell_type": "markdown",
      "metadata": {
        "id": "txURd8_KSZWo"
      },
      "source": [
        "# Deep and Cross network for CFPS\n",
        "## _Feature engineering network_\n",
        "\n",
        "DCN was designed to learn explicit and bounded-degree cross features more effectively. It starts with an input layer (typically an embedding layer), followed by a cross network containing multiple cross layers that models explicit feature interactions, and then combines with a deep network that models implicit feature interactions.\n",
        "\n",
        "- Deep and Cross Network\n",
        "- Implementation details"
      ]
    },
    {
      "cell_type": "markdown",
      "metadata": {
        "id": "BZ0FhIPySpie"
      },
      "source": [
        "## Introduction to data"
      ]
    },
    {
      "cell_type": "markdown",
      "metadata": {
        "id": "P4Wy_EUHStOi"
      },
      "source": [
        "### Pre-processing\n",
        "Steps for pre-processing data\n",
        "* Split data by training, validating, and testing set.\n",
        "* Remove data that contains personal information.\n",
        "* Drop all the nan data\n",
        "* Split ground truth with feature set."
      ]
    },
    {
      "cell_type": "markdown",
      "metadata": {
        "id": "o-JLwHWUggAn"
      },
      "source": [
        "#### Environment setup"
      ]
    },
    {
      "cell_type": "code",
      "metadata": {
        "id": "JGHCWo39SYOR"
      },
      "source": [
        "!pip install -q tensorflow-recommenders\n",
        "!pip install -q --upgrade tensorflow-datasets\n",
        "\n",
        "import pandas as pd\n",
        "import numpy as np\n",
        "import pprint\n",
        "\n",
        "%matplotlib inline\n",
        "import matplotlib.pyplot as plt\n",
        "\n",
        "from mpl_toolkits.axes_grid1 import make_axes_locatable\n",
        "\n",
        "import tensorflow as tf\n",
        "import tensorflow_datasets as tfds\n",
        "\n",
        "import tensorflow_recommenders as tfrs\n",
        "import tensorflow_addons as tfa"
      ],
      "execution_count": 1,
      "outputs": []
    },
    {
      "cell_type": "code",
      "metadata": {
        "id": "xwjh8QbEb9Hq"
      },
      "source": [
        "y_cols = ['qn406','qn407','qn411','qn412','qn414','qn416','qn418','qn420']\n",
        "y_cols_dsm = ['qn406','qn407','qn411','qn412','qn414','qn416','qn418','qn420','dsm_diagnosis']\n",
        "personal_info_cols = ['pid', 'code', 'fid18', 'fid16', 'fid14', 'fid12', 'fid10', 'pid_a_f', 'pid_a_m', 'releaseversion', 'interviewerid18']\n",
        "data_path = \"/content/drive/MyDrive/Colab Notebooks/ecfps2018person_202012.dta\"\n",
        "training_ratio = 0.60\n",
        "validation_ratio = 0.20\n",
        "test_ratio = 0.20"
      ],
      "execution_count": 2,
      "outputs": []
    },
    {
      "cell_type": "markdown",
      "metadata": {
        "id": "9idnp1YsgqdR"
      },
      "source": [
        "#### Helper function in pre-processing"
      ]
    },
    {
      "cell_type": "code",
      "metadata": {
        "id": "gc43c5i7cCG4"
      },
      "source": [
        "def load_dta(dta_path):\n",
        "    \"\"\"Load dataset into a pandas dataframe\"\"\"\n",
        "\n",
        "    data=pd.read_stata(dta_path,\n",
        "                       convert_categoricals=False,\n",
        "                       preserve_dtypes=False\n",
        "                      )\n",
        "    return data\n",
        "\n",
        "def drop_personal_info(data):\n",
        "    \"\"\"Drop personal info related columns\"\"\"\n",
        "    return data.drop(personal_info_cols, axis=1)\n",
        "\n",
        "def clean_up_na_values(data):\n",
        "    \"\"\"Remove all the rows that contains nan value\"\"\"\n",
        "    data.replace('', np.nan, inplace=True)\n",
        "    ground_truth, _ = split_groud_truth(data)\n",
        "    data = data.dropna(axis=1)\n",
        "    data = data.join(ground_truth)\n",
        "    data = data.dropna()\n",
        "    return data.astype('float32')\n",
        "\n",
        "def split_groud_truth(data):\n",
        "    \"\"\"Separate ground truth with traning features\"\"\"\n",
        "    return data[y_cols], data.drop(y_cols, axis=1)\n",
        "\n",
        "def split_groud_truth_dsm(data):\n",
        "    \"\"\"Separate ground truth with traning features\"\"\"\n",
        "    return data[y_cols_dsm], data.drop(y_cols_dsm, axis=1)\n",
        "\n",
        "\n",
        "def map_cfps_dsm(data):\n",
        "    \"\"\"Map Groundtruth Questions to DSMV\"\"\"\n",
        "\n",
        "    n, n_col = data.shape\n",
        "    print(data.shape)\n",
        "\n",
        "    dsm_diagnosis = []\n",
        "\n",
        "    for idx, row in data.iterrows():# for every datapoint\n",
        "        num_symptoms = 0\n",
        "        basic_criterion = 0\n",
        "\n",
        "        # Minimum Must-Meet Criterion for Major Depression -------\n",
        "        # 'qn406': \"I'm in a low spirit (Dysphoria)\"\n",
        "        # 'qn418': \"I feel sad (Dysphoria & Anhedonia)\"\n",
        "        if row['qn406'] == 4 or row['qn418'] == 4:\n",
        "            basic_criterion = 1\n",
        "\n",
        "        # Additional Symptoms for 'qn406' & 'qn418'----------------\n",
        "        if row['qn406'] == 4 and row['qn418'] == 4:\n",
        "            num_symptoms += 1\n",
        "\n",
        "        elif row['qn406'] == 3 and row['qn418'] == 3:\n",
        "            num_symptoms += 2\n",
        "\n",
        "        elif row['qn406'] == 3 and row['qn418'] != 3:\n",
        "            num_symptoms += 1\n",
        "\n",
        "        elif row['qn406'] != 3 and row['qn418'] == 3:\n",
        "            num_symptoms += 1\n",
        "\n",
        "        #---------------------------------------------------\n",
        "        # Symptoms for 'qn407': \"I find it difficult to do anything\"\n",
        "        if row['qn407'] >= 3:\n",
        "            num_symptoms += 4\n",
        "\n",
        "        # Symptoms for 'qn411': \"I cannot sleep well\"\n",
        "        if row['qn411'] >= 3:\n",
        "            num_symptoms += 2\n",
        "\n",
        "        # Symptoms for 'qn414': \"I feel lonely\"\n",
        "        if row['qn414'] == 4:\n",
        "            num_symptoms += 1\n",
        "\n",
        "        # Symptoms for 'qn420': \"I feel that I cannot continue with my life\"\n",
        "        if row['qn420'] >= 3:\n",
        "            num_symptoms += 5\n",
        "\n",
        "        # Symptoms for 'qn412': \"I feel happy (REVERSED)\"\n",
        "        if row['qn412'] == 4:\n",
        "            num_symptoms += 2\n",
        "\n",
        "        # Symptoms for 'qn416': \"I have a happy life (REVERSED)\"\n",
        "        if row['qn416'] == 4:\n",
        "            num_symptoms += 2\n",
        "\n",
        "        #---------------------------------------------------\n",
        "        # DSM Diagnosis Categories:\n",
        "        #  -- 4 --  Major Depressive Episode\n",
        "        #  -- 3 --  Probably Major Depressive Episode\n",
        "        #  -- 2 --  Possible Major Depressive Episode\n",
        "        #  -- 1 --  Subthreshold Depression Symptoms\n",
        "        #  -- 0 --  No Clinical Significance\n",
        "\n",
        "        if basic_criterion == 1 and num_symptoms >= 4:\n",
        "            dsm_diagnosis.append(4)\n",
        "\n",
        "        elif basic_criterion == 1 and num_symptoms == 3:\n",
        "            dsm_diagnosis.append(3)\n",
        "\n",
        "        elif basic_criterion == 1 and num_symptoms == 2:\n",
        "            dsm_diagnosis.append(2)\n",
        "\n",
        "        elif basic_criterion != 1 and num_symptoms >= 4:\n",
        "            dsm_diagnosis.append(1)\n",
        "\n",
        "        elif basic_criterion != 1 and num_symptoms < 4:\n",
        "            dsm_diagnosis.append(0)\n",
        "\n",
        "        else:\n",
        "            dsm_diagnosis.append(0)\n",
        "\n",
        "    return dsm_diagnosis  #numpy list"
      ],
      "execution_count": 3,
      "outputs": []
    },
    {
      "cell_type": "markdown",
      "metadata": {
        "id": "n9m16Wjogww0"
      },
      "source": [
        "#### Prepare data"
      ]
    },
    {
      "cell_type": "code",
      "metadata": {
        "id": "19mf9LzagzHD",
        "colab": {
          "base_uri": "https://localhost:8080/"
        },
        "outputId": "fd9f7aee-8266-4db1-8790-7d98c489580e"
      },
      "source": [
        "def pre_process():\n",
        "    data = load_dta(data_path)\n",
        "    data = drop_personal_info(data)\n",
        "    data = clean_up_na_values(data)\n",
        "    y, x = split_groud_truth(data)\n",
        "\n",
        "    # split data for different purpose\n",
        "    training_dataset = (\n",
        "        tf.data.Dataset.from_tensor_slices(\n",
        "            (\n",
        "                dict(x[: round(training_ratio * len(x))]),\n",
        "                dict(y[: round(training_ratio * len(y))])\n",
        "            )\n",
        "        )\n",
        "    )\n",
        "    validataion_dataset = (\n",
        "        tf.data.Dataset.from_tensor_slices(\n",
        "            (\n",
        "                dict(x[round(training_ratio * len(x)): round((training_ratio + validation_ratio) * len(x))]),\n",
        "                dict(y[round(training_ratio * len(x)): round((training_ratio + validation_ratio) * len(y))])\n",
        "            )\n",
        "        )  \n",
        "    )\n",
        "    test_dataset = (\n",
        "        tf.data.Dataset.from_tensor_slices(\n",
        "            (\n",
        "                dict(x[round((training_ratio + validation_ratio) * len(x)):]),\n",
        "                dict(y[round((training_ratio + validation_ratio) * len(y)):])\n",
        "            )\n",
        "        )\n",
        "    )\n",
        "    return training_dataset, validataion_dataset, test_dataset, list(x.columns.values), list(y.columns.values)\n",
        "    \n",
        "def pre_process_dsm():\n",
        "    data = load_dta(data_path)\n",
        "    data = drop_personal_info(data)\n",
        "    data = clean_up_na_values(data)\n",
        "    dsm_diagnosis = map_cfps_dsm(data)\n",
        "    data[\"dsm_diagnosis\"] = dsm_diagnosis\n",
        "    y, x = split_groud_truth_dsm(data)\n",
        "    \n",
        "    # split data for different purpose\n",
        "    training_dataset = (\n",
        "        tf.data.Dataset.from_tensor_slices(\n",
        "            (\n",
        "                dict(x[: round(training_ratio * len(x))]),\n",
        "                dict(y[: round(training_ratio * len(y))])\n",
        "            )\n",
        "        )\n",
        "    )\n",
        "    validataion_dataset = (\n",
        "        tf.data.Dataset.from_tensor_slices(\n",
        "            (\n",
        "                dict(x[round(training_ratio * len(x)): round((training_ratio + validation_ratio) * len(x))]),\n",
        "                dict(y[round(training_ratio * len(x)): round((training_ratio + validation_ratio) * len(y))])\n",
        "            )\n",
        "        )  \n",
        "    )\n",
        "    test_dataset = (\n",
        "        tf.data.Dataset.from_tensor_slices(\n",
        "            (\n",
        "                dict(x[round((training_ratio + validation_ratio) * len(x)):]),\n",
        "                dict(y[round((training_ratio + validation_ratio) * len(y)):])\n",
        "            )\n",
        "        )\n",
        "    )\n",
        "    return training_dataset, validataion_dataset, test_dataset, list(x.columns.values), list(y.columns.values)\n",
        "\n",
        "training, validataion, test, features, labels = pre_process()\n",
        "training_dsm, validataion_dsm, test_dsm, features_dsm, labels_dsm = pre_process_dsm()\n",
        "print(labels_dsm)"
      ],
      "execution_count": 4,
      "outputs": [
        {
          "output_type": "stream",
          "name": "stdout",
          "text": [
            "(33097, 43)\n",
            "['qn406', 'qn407', 'qn411', 'qn412', 'qn414', 'qn416', 'qn418', 'qn420', 'dsm_diagnosis']\n"
          ]
        }
      ]
    },
    {
      "cell_type": "code",
      "metadata": {
        "id": "e6ul7QK5qSvE"
      },
      "source": [
        "def extract_features_from_tensor(dataset):\n",
        "    return dataset.map(lambda l, d: {\n",
        "        \"selfrpt\": l[\"selfrpt\"],\n",
        "        \"proxyrpt\": l[\"proxyrpt\"],\n",
        "        \"interrupt\": l[\"interrupt\"],\n",
        "        \"subsample\": l[\"subsample\"],\n",
        "        \"subpopulation\": l[\"subpopulation\"],\n",
        "        \"urban18\": l[\"urban18\"],\n",
        "        \"psu\": l[\"psu\"],\n",
        "        \"tb6_a18_p\": l[\"tb6_a18_p\"],\n",
        "        \"outunit18\": l[\"outunit18\"],\n",
        "        \"gene\": l[\"gene\"],\n",
        "        \"gender\": l[\"gender\"],\n",
        "        \"minzu\": l[\"minzu\"],\n",
        "        \"retire\": l[\"retire\"],\n",
        "        \"pension\": l[\"pension\"],\n",
        "        \"party\": l[\"party\"],\n",
        "        \"cyear\": l[\"cyear\"],\n",
        "        \"cmonth\": l[\"cmonth\"],\n",
        "        \"age\": l[\"age\"],\n",
        "        \"qa701code\": l[\"qa701code\"],\n",
        "        \"qc1\": l[\"qc1\"],\n",
        "        \"qc2\": l[\"qc2\"],\n",
        "        \"school\": l[\"school\"],\n",
        "        \"qc3\": l[\"qc3\"],\n",
        "        \"qc4\": l[\"qc4\"],\n",
        "        \"qc5\": l[\"qc5\"],\n",
        "        \"qgb1\": l[\"qgb1\"],\n",
        "        \"qg1\": l[\"qg1\"],\n",
        "        \"qg101\": l[\"qg101\"],\n",
        "        \"qg2\": l[\"qg2\"],\n",
        "        \"qg201\": l[\"qg201\"],\n",
        "        \"qg12\": l[\"qg12\"],\n",
        "        \"qi101\": l[\"qi101\"],\n",
        "        \"qi1011\": l[\"qi1011\"],\n",
        "        \"qn4001\": l[\"qn4001\"],\n",
        "        \"qp201\": l[\"qp201\"],\n",
        "        \"qn406\": d[\"qn406\"],\n",
        "        \"qn407\": d[\"qn407\"],\n",
        "        \"qn411\": d[\"qn411\"],\n",
        "        \"qn412\": d[\"qn412\"],\n",
        "        \"qn414\": d[\"qn414\"],\n",
        "        \"qn416\": d[\"qn416\"],\n",
        "        \"qn418\": d[\"qn418\"],\n",
        "        \"qn420\": d[\"qn420\"],\n",
        "    })\n",
        "\n",
        "training = extract_features_from_tensor(training)\n",
        "validataion = extract_features_from_tensor(validataion)\n",
        "test = extract_features_from_tensor(test)\n",
        "\n",
        "def extract_features_from_tensor_dsm(dataset):\n",
        "    return dataset.map(lambda l, d: {\n",
        "        \"selfrpt\": l[\"selfrpt\"],\n",
        "        \"proxyrpt\": l[\"proxyrpt\"],\n",
        "        \"interrupt\": l[\"interrupt\"],\n",
        "        \"subsample\": l[\"subsample\"],\n",
        "        \"subpopulation\": l[\"subpopulation\"],\n",
        "        \"urban18\": l[\"urban18\"],\n",
        "        \"psu\": l[\"psu\"],\n",
        "        \"tb6_a18_p\": l[\"tb6_a18_p\"],\n",
        "        \"outunit18\": l[\"outunit18\"],\n",
        "        \"gene\": l[\"gene\"],\n",
        "        \"gender\": l[\"gender\"],\n",
        "        \"minzu\": l[\"minzu\"],\n",
        "        \"retire\": l[\"retire\"],\n",
        "        \"pension\": l[\"pension\"],\n",
        "        \"party\": l[\"party\"],\n",
        "        \"cyear\": l[\"cyear\"],\n",
        "        \"cmonth\": l[\"cmonth\"],\n",
        "        \"age\": l[\"age\"],\n",
        "        \"qa701code\": l[\"qa701code\"],\n",
        "        \"qc1\": l[\"qc1\"],\n",
        "        \"qc2\": l[\"qc2\"],\n",
        "        \"school\": l[\"school\"],\n",
        "        \"qc3\": l[\"qc3\"],\n",
        "        \"qc4\": l[\"qc4\"],\n",
        "        \"qc5\": l[\"qc5\"],\n",
        "        \"qgb1\": l[\"qgb1\"],\n",
        "        \"qg1\": l[\"qg1\"],\n",
        "        \"qg101\": l[\"qg101\"],\n",
        "        \"qg2\": l[\"qg2\"],\n",
        "        \"qg201\": l[\"qg201\"],\n",
        "        \"qg12\": l[\"qg12\"],\n",
        "        \"qi101\": l[\"qi101\"],\n",
        "        \"qi1011\": l[\"qi1011\"],\n",
        "        \"qn4001\": l[\"qn4001\"],\n",
        "        \"qp201\": l[\"qp201\"],\n",
        "        \"qn406\": d[\"qn406\"],\n",
        "        \"qn407\": d[\"qn407\"],\n",
        "        \"qn411\": d[\"qn411\"],\n",
        "        \"qn412\": d[\"qn412\"],\n",
        "        \"qn414\": d[\"qn414\"],\n",
        "        \"qn416\": d[\"qn416\"],\n",
        "        \"qn418\": d[\"qn418\"],\n",
        "        \"qn420\": d[\"qn420\"],\n",
        "        \"dsm_diagnosis\": d[\"dsm_diagnosis\"],\n",
        "    })\n",
        "\n",
        "training_dsm = extract_features_from_tensor_dsm(training_dsm)\n",
        "validataion_dsm = extract_features_from_tensor_dsm(validataion_dsm)\n",
        "test_dsm = extract_features_from_tensor_dsm(test_dsm)"
      ],
      "execution_count": 5,
      "outputs": []
    },
    {
      "cell_type": "code",
      "metadata": {
        "id": "DTf06JI8_xD_"
      },
      "source": [
        "vocabularies = {}\n",
        "\n",
        "for feature_name in features:\n",
        "    vocab = training.batch(len(training)).map(lambda d: d[feature_name])\n",
        "    vocabularies[feature_name] = np.unique(np.concatenate(list(vocab)))"
      ],
      "execution_count": 6,
      "outputs": []
    },
    {
      "cell_type": "markdown",
      "metadata": {
        "id": "YoPwJOkhHOqv"
      },
      "source": [
        "#### Model *construction*"
      ]
    },
    {
      "cell_type": "markdown",
      "metadata": {
        "id": "_EEP2iuaqgGy"
      },
      "source": [
        "Multi-class implementation"
      ]
    },
    {
      "cell_type": "code",
      "metadata": {
        "id": "9zKUTVU7G5Lo"
      },
      "source": [
        "\n",
        "class DCN(tfrs.Model):\n",
        "    def __init__(self, use_cross_layer, deep_layer_sizes, projection_dim=None):\n",
        "        super().__init__()\n",
        "\n",
        "        self.embedding_dimension = 32\n",
        "\n",
        "        self._all_features = features\n",
        "        self._embeddings = {}\n",
        "        \n",
        "        # Compute embeddings for features.\n",
        "        for feature_name in features:\n",
        "            vocabulary = vocabularies[feature_name]\n",
        "            self._embeddings[feature_name] = tf.keras.Sequential(\n",
        "                [tf.keras.layers.IntegerLookup(\n",
        "                    vocabulary=vocabulary, mask_token=None, oov_token=-1000),\n",
        "                tf.keras.layers.Embedding(len(vocabulary) + 1,\n",
        "                                            self.embedding_dimension)\n",
        "            ])\n",
        "\n",
        "        if use_cross_layer:\n",
        "            self._cross_layer = tfrs.layers.dcn.Cross(\n",
        "                projection_dim=projection_dim,\n",
        "                kernel_initializer=\"glorot_uniform\")\n",
        "        else:\n",
        "            self._cross_layer = None\n",
        "\n",
        "        self._deep_layers = [tf.keras.layers.Dense(layer_size, activation=\"relu\")\n",
        "            for layer_size in deep_layer_sizes]\n",
        "\n",
        "        self._logit_layer = [tf.keras.layers.Dense(1) for i in range(8)]\n",
        "\n",
        "        self.task = [tfrs.tasks.Ranking(\n",
        "            loss=tf.keras.losses.MeanSquaredError(),\n",
        "            metrics=[tf.keras.metrics.RootMeanSquaredError(\"RMSE\")]\n",
        "        ) for i in range(8)]\n",
        "\n",
        "    def call(self, features):\n",
        "        # Concatenate embeddings\n",
        "        embeddings = []\n",
        "        for feature_name in self._all_features:\n",
        "            embedding_fn = self._embeddings[feature_name]\n",
        "            embeddings.append(embedding_fn(features[feature_name]))\n",
        "\n",
        "        x = tf.concat(embeddings, axis=1)\n",
        "\n",
        "        # Build Cross Network\n",
        "        if self._cross_layer is not None:\n",
        "            x = self._cross_layer(x)\n",
        "        \n",
        "        # Build Deep Network\n",
        "        for deep_layer in self._deep_layers:\n",
        "            x = deep_layer(x)\n",
        "\n",
        "        return [self._logit_layer[i](x) for i in range(8)]\n",
        "\n",
        "    def compute_loss(self, features, training=False):\n",
        "        labels = [features.pop(\"qn406\"), \n",
        "                  features.pop(\"qn407\"), \n",
        "                  features.pop(\"qn411\"), \n",
        "                  features.pop(\"qn412\"), \n",
        "                  features.pop(\"qn414\"), \n",
        "                  features.pop(\"qn416\"), \n",
        "                  features.pop(\"qn418\"), \n",
        "                  features.pop(\"qn420\")]\n",
        "        scores = self(features)\n",
        "        #self.compute_f1_score(scores, labels)\n",
        "        return sum([self.task[i](\n",
        "            labels=labels[i],\n",
        "            predictions=scores[i],\n",
        "        ) for i in range(8)])/8\n",
        "    \n",
        "    def compute_f1_score(self, predictions, labels):\n",
        "        metric = [tfa.metrics.F1Score(num_classes=1, threshold=0.5) for i in range(8)]\n",
        "        for i in range (8):\n",
        "            metric[i].update_state(labels[i], predictions[i])\n",
        "        result = [metric[i].result() for i in range (8)]\n",
        "        print(result.numpy())"
      ],
      "execution_count": 27,
      "outputs": []
    },
    {
      "cell_type": "markdown",
      "metadata": {
        "id": "u9GUKGccqscz"
      },
      "source": [
        "Multi-class implementation - 2\n"
      ]
    },
    {
      "cell_type": "code",
      "metadata": {
        "id": "8vSOr8cp0XxX"
      },
      "source": [
        "class DCN_2(tfrs.Model):\n",
        "    def __init__(self, use_cross_layer, deep_layer_sizes, projection_dim=None):\n",
        "        super().__init__()\n",
        "\n",
        "        self.embedding_dimension = 32\n",
        "\n",
        "        self._all_features = features\n",
        "        self._embeddings = {}\n",
        "        \n",
        "        # Compute embeddings for features.\n",
        "        for feature_name in features:\n",
        "            vocabulary = vocabularies[feature_name]\n",
        "            self._embeddings[feature_name] = tf.keras.Sequential(\n",
        "                [tf.keras.layers.IntegerLookup(\n",
        "                    vocabulary=vocabulary, mask_token=None, oov_token=-1000),\n",
        "                tf.keras.layers.Embedding(len(vocabulary) + 1,\n",
        "                                            self.embedding_dimension)\n",
        "            ])\n",
        "\n",
        "        if use_cross_layer:\n",
        "            self._cross_layer = tfrs.layers.dcn.Cross(\n",
        "                projection_dim=projection_dim,\n",
        "                kernel_initializer=\"glorot_uniform\")\n",
        "        else:\n",
        "            self._cross_layer = None\n",
        "\n",
        "        self._deep_layers = [tf.keras.layers.Dense(layer_size, activation=\"relu\")\n",
        "            for layer_size in deep_layer_sizes]\n",
        "\n",
        "        self._logit_layer = [tf.keras.layers.Dense(1) for i in range(8)]\n",
        "\n",
        "        self.task = [tfrs.tasks.Ranking(\n",
        "            loss=tf.keras.losses.MeanSquaredError(),\n",
        "            metrics=[tf.keras.metrics.RootMeanSquaredError(\"RMSE\")]\n",
        "        ) for i in range(8)]\n",
        "\n",
        "    def call(self, features):\n",
        "        # Concatenate embeddings\n",
        "        embeddings = []\n",
        "        for feature_name in self._all_features:\n",
        "            embedding_fn = self._embeddings[feature_name]\n",
        "            embeddings.append(embedding_fn(features[feature_name]))\n",
        "\n",
        "        x = tf.concat(embeddings, axis=1)\n",
        "\n",
        "        # Build Cross Network\n",
        "        if self._cross_layer is not None:\n",
        "            x = self._cross_layer(x)\n",
        "        \n",
        "        # Build Deep Network\n",
        "        for deep_layer in self._deep_layers:\n",
        "            x = deep_layer(x)\n",
        "\n",
        "        return [self._logit_layer[i](x) for i in range(8)]\n",
        "\n",
        "    def compute_loss(self, features, training=False):\n",
        "        labels = [features.pop(\"qn406\"), \n",
        "                  features.pop(\"qn407\"), \n",
        "                  features.pop(\"qn411\"), \n",
        "                  features.pop(\"qn412\"), \n",
        "                  features.pop(\"qn414\"), \n",
        "                  features.pop(\"qn416\"), \n",
        "                  features.pop(\"qn418\"), \n",
        "                  features.pop(\"qn420\")]\n",
        "        scores = self(features)\n",
        "        #self.compute_f1_score(scores, labels)\n",
        "        return sum([self.task[i](\n",
        "            labels=labels[i],\n",
        "            predictions=scores[i],\n",
        "        ) for i in range(8)])\n",
        "    \n",
        "    def compute_f1_score(self, predictions, labels):\n",
        "        metric = [tfa.metrics.F1Score(num_classes=1, threshold=0.5) for i in range(8)]\n",
        "        for i in range (8):\n",
        "            metric[i].update_state(labels[i], predictions[i])\n",
        "        result = [metric[i].result() for i in range (8)]\n",
        "        print(result.numpy())"
      ],
      "execution_count": 28,
      "outputs": []
    },
    {
      "cell_type": "markdown",
      "metadata": {
        "id": "3J1ZrKYi5vC_"
      },
      "source": [
        "Cast the class to DESC scores"
      ]
    },
    {
      "cell_type": "code",
      "metadata": {
        "id": "Y_xk0dnAP0U5"
      },
      "source": [
        "class DCN_3(tfrs.Model):\n",
        "    def __init__(self, use_cross_layer, deep_layer_sizes, projection_dim=None):\n",
        "        super().__init__()\n",
        "\n",
        "        self.embedding_dimension = 32\n",
        "\n",
        "        self._all_features = features\n",
        "        self._embeddings = {}\n",
        "        \n",
        "        # Compute embeddings for features.\n",
        "        for feature_name in features:\n",
        "            vocabulary = vocabularies[feature_name]\n",
        "            self._embeddings[feature_name] = tf.keras.Sequential(\n",
        "                [tf.keras.layers.IntegerLookup(\n",
        "                    vocabulary=vocabulary, mask_token=None, oov_token=-1000),\n",
        "                tf.keras.layers.Embedding(len(vocabulary) + 1,\n",
        "                                          self.embedding_dimension)\n",
        "            ])\n",
        "\n",
        "        if use_cross_layer:\n",
        "            self._cross_layer = tfrs.layers.dcn.Cross(\n",
        "                projection_dim=projection_dim,\n",
        "                kernel_initializer=\"glorot_uniform\")\n",
        "        else:\n",
        "            self._cross_layer = None\n",
        "\n",
        "        self._deep_layers = [tf.keras.layers.Dense(layer_size, activation=\"relu\")\n",
        "            for layer_size in deep_layer_sizes]\n",
        "\n",
        "        self._logit_layer = tf.keras.layers.Dense(1)\n",
        "\n",
        "        self.task = tfrs.tasks.Ranking(\n",
        "            loss=tf.keras.losses.MeanSquaredError(),\n",
        "            metrics=[tf.keras.metrics.RootMeanSquaredError(\"RMSE\")]\n",
        "        )\n",
        "\n",
        "    def call(self, features):\n",
        "        # Concatenate embeddings\n",
        "        embeddings = []\n",
        "        for feature_name in self._all_features:\n",
        "            embedding_fn = self._embeddings[feature_name]\n",
        "            embeddings.append(embedding_fn(features[feature_name]))\n",
        "\n",
        "        x = tf.concat(embeddings, axis=1)\n",
        "\n",
        "        # Build Cross Network\n",
        "        if self._cross_layer is not None:\n",
        "            x = self._cross_layer(x)\n",
        "        \n",
        "        # Build Deep Network\n",
        "        for deep_layer in self._deep_layers:\n",
        "            x = deep_layer(x)\n",
        "\n",
        "        return self._logit_layer(x)\n",
        "\n",
        "    def compute_loss(self, features, training=False):\n",
        "        labels = features.pop(\"dsm_diagnosis\")\n",
        "        scores = self(features)\n",
        "        return self.task(\n",
        "            labels=labels,\n",
        "            predictions=scores,\n",
        "            )"
      ],
      "execution_count": 29,
      "outputs": []
    },
    {
      "cell_type": "markdown",
      "metadata": {
        "id": "B5t0dnmopV-b"
      },
      "source": [
        "#### Train the model"
      ]
    },
    {
      "cell_type": "code",
      "metadata": {
        "id": "t8uKAckP_NPY"
      },
      "source": [
        "cached_training = training.shuffle(len(training)).batch(8192).cache()\n",
        "cached_test = test.batch(4096).cache()\n",
        "cached_training_dsm = training_dsm.shuffle(len(training_dsm)).batch(8192).cache()\n",
        "cached_test_dsm = test_dsm.batch(4096).cache()"
      ],
      "execution_count": 10,
      "outputs": []
    },
    {
      "cell_type": "code",
      "metadata": {
        "id": "YbeiMbJbpY4h"
      },
      "source": [
        "def run_models(use_cross_layer, deep_layer_sizes, projection_dim=None, num_runs=5):\n",
        "    models = []\n",
        "    rmses = []\n",
        "\n",
        "    for i in range(num_runs):\n",
        "        model_1 = DCN(use_cross_layer=use_cross_layer,\n",
        "                    deep_layer_sizes=deep_layer_sizes,\n",
        "                    projection_dim=projection_dim)\n",
        "        model_1.compile(optimizer=tf.keras.optimizers.Adam(learning_rate))\n",
        "\n",
        "        model_2 = DCN_2(use_cross_layer=use_cross_layer,\n",
        "                    deep_layer_sizes=deep_layer_sizes,\n",
        "                    projection_dim=projection_dim)\n",
        "        model_2.compile(optimizer=tf.keras.optimizers.Adam(learning_rate))\n",
        "\n",
        "        model_3 = DCN_3(use_cross_layer=use_cross_layer,\n",
        "                    deep_layer_sizes=deep_layer_sizes,\n",
        "                    projection_dim=projection_dim)\n",
        "        model_3.compile(optimizer=tf.keras.optimizers.Adam(learning_rate))\n",
        "        models.append(model_1)\n",
        "        models.append(model_2)\n",
        "        models.append(model_3)\n",
        "\n",
        "        print(\"Model 1\")\n",
        "        print(\"=\"*30)\n",
        "        model_1.fit(cached_training, epochs=epochs, verbose=False)\n",
        "        metrics = model_1.evaluate(cached_test, return_dict=True)\n",
        "        rmses.append(metrics[\"RMSE\"])\n",
        "        print(\"Model 2\")\n",
        "        print(\"=\"*30)\n",
        "        model_2.fit(cached_training, epochs=epochs, verbose=False)\n",
        "        metrics = model_2.evaluate(cached_test, return_dict=True)\n",
        "        rmses.append(metrics[\"RMSE\"])\n",
        "        print(\"Model 3\")\n",
        "        print(\"=\"*30)\n",
        "        model_3.fit(cached_training_dsm, epochs=epochs, verbose=False)\n",
        "        metrics = model_3.evaluate(cached_test_dsm, return_dict=True)\n",
        "        rmses.append(metrics[\"RMSE\"])\n",
        "\n",
        "    mean, stdv = np.average(rmses), np.std(rmses)\n",
        "\n",
        "    return {\"model\": models, \"mean\": mean, \"stdv\": stdv}"
      ],
      "execution_count": 34,
      "outputs": []
    },
    {
      "cell_type": "code",
      "metadata": {
        "colab": {
          "base_uri": "https://localhost:8080/"
        },
        "id": "luMaDO3qplOX",
        "cellView": "code",
        "outputId": "bec55c1c-6ee8-4e37-db28-81ab4d1543ff"
      },
      "source": [
        "epochs = 8\n",
        "learning_rate = 0.01\n",
        "dcn_result = run_models(use_cross_layer=True,\n",
        "                        deep_layer_sizes=[192, 192])"
      ],
      "execution_count": 35,
      "outputs": [
        {
          "output_type": "stream",
          "name": "stdout",
          "text": [
            "Model 1\n",
            "==============================\n",
            "2/2 [==============================] - 1s 156ms/step - RMSE: 1.0083 - loss: 1.5985 - regularization_loss: 0.0000e+00 - total_loss: 1.5985\n",
            "Model 2\n",
            "==============================\n",
            "2/2 [==============================] - 1s 169ms/step - RMSE: 0.7788 - loss: 9.0900 - regularization_loss: 0.0000e+00 - total_loss: 9.0900\n",
            "Model 3\n",
            "==============================\n",
            "2/2 [==============================] - 1s 162ms/step - RMSE: 0.9593 - loss: 0.8964 - regularization_loss: 0.0000e+00 - total_loss: 0.8964\n",
            "Model 1\n",
            "==============================\n",
            "2/2 [==============================] - 1s 152ms/step - RMSE: 1.1668 - loss: 1.5118 - regularization_loss: 0.0000e+00 - total_loss: 1.5118\n",
            "Model 2\n",
            "==============================\n",
            "2/2 [==============================] - 1s 145ms/step - RMSE: 1.0852 - loss: 12.6028 - regularization_loss: 0.0000e+00 - total_loss: 12.6028\n",
            "Model 3\n",
            "==============================\n",
            "2/2 [==============================] - 1s 147ms/step - RMSE: 0.9461 - loss: 0.8844 - regularization_loss: 0.0000e+00 - total_loss: 0.8844\n",
            "Model 1\n",
            "==============================\n",
            "2/2 [==============================] - 1s 152ms/step - RMSE: 1.1267 - loss: 1.4838 - regularization_loss: 0.0000e+00 - total_loss: 1.4838\n",
            "Model 2\n",
            "==============================\n",
            "2/2 [==============================] - 1s 151ms/step - RMSE: 0.8569 - loss: 10.8101 - regularization_loss: 0.0000e+00 - total_loss: 10.8101\n",
            "Model 3\n",
            "==============================\n",
            "2/2 [==============================] - 1s 156ms/step - RMSE: 0.9367 - loss: 0.8710 - regularization_loss: 0.0000e+00 - total_loss: 0.8710\n",
            "Model 1\n",
            "==============================\n",
            "2/2 [==============================] - 1s 155ms/step - RMSE: 1.0607 - loss: 1.6066 - regularization_loss: 0.0000e+00 - total_loss: 1.6066\n",
            "Model 2\n",
            "==============================\n",
            "2/2 [==============================] - 1s 150ms/step - RMSE: 1.1532 - loss: 13.4375 - regularization_loss: 0.0000e+00 - total_loss: 13.4375\n",
            "Model 3\n",
            "==============================\n",
            "2/2 [==============================] - 1s 151ms/step - RMSE: 0.9449 - loss: 0.8786 - regularization_loss: 0.0000e+00 - total_loss: 0.8786\n",
            "Model 1\n",
            "==============================\n",
            "2/2 [==============================] - 1s 155ms/step - RMSE: 1.1271 - loss: 1.7574 - regularization_loss: 0.0000e+00 - total_loss: 1.7574\n",
            "Model 2\n",
            "==============================\n",
            "2/2 [==============================] - 1s 158ms/step - RMSE: 1.2976 - loss: 14.2138 - regularization_loss: 0.0000e+00 - total_loss: 14.2138\n",
            "Model 3\n",
            "==============================\n",
            "2/2 [==============================] - 1s 152ms/step - RMSE: 0.9355 - loss: 0.8693 - regularization_loss: 0.0000e+00 - total_loss: 0.8693\n"
          ]
        }
      ]
    },
    {
      "cell_type": "code",
      "metadata": {
        "colab": {
          "base_uri": "https://localhost:8080/"
        },
        "id": "PGezyvh-K3vG",
        "outputId": "eb6dc3ca-9814-4541-bb08-3f12ceaae35d"
      },
      "source": [
        "dcn_lr_result = run_models(use_cross_layer=True,\n",
        "                           projection_dim=20,\n",
        "                           deep_layer_sizes=[192, 192])"
      ],
      "execution_count": 36,
      "outputs": [
        {
          "output_type": "stream",
          "name": "stdout",
          "text": [
            "Model 1\n",
            "==============================\n",
            "2/2 [==============================] - 1s 69ms/step - RMSE: 1.1366 - loss: 1.5517 - regularization_loss: 0.0000e+00 - total_loss: 1.5517\n",
            "Model 2\n",
            "==============================\n",
            "2/2 [==============================] - 1s 56ms/step - RMSE: 1.1395 - loss: 12.5390 - regularization_loss: 0.0000e+00 - total_loss: 12.5390\n",
            "Model 3\n",
            "==============================\n",
            "2/2 [==============================] - 1s 56ms/step - RMSE: 0.9389 - loss: 0.8752 - regularization_loss: 0.0000e+00 - total_loss: 0.8752\n",
            "Model 1\n",
            "==============================\n",
            "2/2 [==============================] - 1s 66ms/step - RMSE: 1.1297 - loss: 1.4713 - regularization_loss: 0.0000e+00 - total_loss: 1.4713\n",
            "Model 2\n",
            "==============================\n",
            "2/2 [==============================] - 1s 57ms/step - RMSE: 1.0468 - loss: 11.1905 - regularization_loss: 0.0000e+00 - total_loss: 11.1905\n",
            "Model 3\n",
            "==============================\n",
            "2/2 [==============================] - 1s 59ms/step - RMSE: 0.9346 - loss: 0.8639 - regularization_loss: 0.0000e+00 - total_loss: 0.8639\n",
            "Model 1\n",
            "==============================\n",
            "2/2 [==============================] - 1s 58ms/step - RMSE: 1.0922 - loss: 1.5755 - regularization_loss: 0.0000e+00 - total_loss: 1.5755\n",
            "Model 2\n",
            "==============================\n",
            "2/2 [==============================] - 1s 53ms/step - RMSE: 1.1412 - loss: 12.4957 - regularization_loss: 0.0000e+00 - total_loss: 12.4957\n",
            "Model 3\n",
            "==============================\n",
            "2/2 [==============================] - 1s 50ms/step - RMSE: 0.9334 - loss: 0.8640 - regularization_loss: 0.0000e+00 - total_loss: 0.8640\n",
            "Model 1\n",
            "==============================\n",
            "2/2 [==============================] - 1s 58ms/step - RMSE: 1.2013 - loss: 1.6336 - regularization_loss: 0.0000e+00 - total_loss: 1.6336\n",
            "Model 2\n",
            "==============================\n",
            "2/2 [==============================] - 1s 54ms/step - RMSE: 1.0997 - loss: 11.9845 - regularization_loss: 0.0000e+00 - total_loss: 11.9845\n",
            "Model 3\n",
            "==============================\n",
            "2/2 [==============================] - 1s 53ms/step - RMSE: 0.9629 - loss: 0.9122 - regularization_loss: 0.0000e+00 - total_loss: 0.9122\n",
            "Model 1\n",
            "==============================\n",
            "2/2 [==============================] - 1s 54ms/step - RMSE: 1.1213 - loss: 1.4953 - regularization_loss: 0.0000e+00 - total_loss: 1.4953\n",
            "Model 2\n",
            "==============================\n",
            "2/2 [==============================] - 1s 56ms/step - RMSE: 1.1203 - loss: 12.5267 - regularization_loss: 0.0000e+00 - total_loss: 12.5267\n",
            "Model 3\n",
            "==============================\n",
            "2/2 [==============================] - 1s 52ms/step - RMSE: 0.9342 - loss: 0.8640 - regularization_loss: 0.0000e+00 - total_loss: 0.8640\n"
          ]
        }
      ]
    },
    {
      "cell_type": "code",
      "metadata": {
        "colab": {
          "base_uri": "https://localhost:8080/"
        },
        "id": "Iqoys85UMyHK",
        "outputId": "b62ca628-d6ba-4abe-e188-15562c9f3d09"
      },
      "source": [
        "dnn_result = run_models(use_cross_layer=False,\n",
        "                        deep_layer_sizes=[192, 192, 192])"
      ],
      "execution_count": 37,
      "outputs": [
        {
          "output_type": "stream",
          "name": "stdout",
          "text": [
            "Model 1\n",
            "==============================\n",
            "2/2 [==============================] - 1s 58ms/step - RMSE: 1.0439 - loss: 1.5683 - regularization_loss: 0.0000e+00 - total_loss: 1.5683\n",
            "Model 2\n",
            "==============================\n",
            "2/2 [==============================] - 1s 42ms/step - RMSE: 1.1700 - loss: 12.4540 - regularization_loss: 0.0000e+00 - total_loss: 12.4540\n",
            "Model 3\n",
            "==============================\n",
            "2/2 [==============================] - 1s 48ms/step - RMSE: 0.9335 - loss: 0.8638 - regularization_loss: 0.0000e+00 - total_loss: 0.8638\n",
            "Model 1\n",
            "==============================\n",
            "2/2 [==============================] - 1s 44ms/step - RMSE: 1.0350 - loss: 1.5643 - regularization_loss: 0.0000e+00 - total_loss: 1.5643\n",
            "Model 2\n",
            "==============================\n",
            "2/2 [==============================] - 1s 44ms/step - RMSE: 1.0662 - loss: 12.0011 - regularization_loss: 0.0000e+00 - total_loss: 12.0011\n",
            "Model 3\n",
            "==============================\n",
            "2/2 [==============================] - 1s 40ms/step - RMSE: 0.9448 - loss: 0.8862 - regularization_loss: 0.0000e+00 - total_loss: 0.8862\n",
            "Model 1\n",
            "==============================\n",
            "2/2 [==============================] - 1s 44ms/step - RMSE: 1.2720 - loss: 1.5763 - regularization_loss: 0.0000e+00 - total_loss: 1.5763\n",
            "Model 2\n",
            "==============================\n",
            "2/2 [==============================] - 1s 61ms/step - RMSE: 1.1544 - loss: 14.5481 - regularization_loss: 0.0000e+00 - total_loss: 14.5481\n",
            "Model 3\n",
            "==============================\n",
            "2/2 [==============================] - 1s 63ms/step - RMSE: 0.9435 - loss: 0.8797 - regularization_loss: 0.0000e+00 - total_loss: 0.8797\n",
            "Model 1\n",
            "==============================\n",
            "2/2 [==============================] - 1s 48ms/step - RMSE: 1.0777 - loss: 1.5813 - regularization_loss: 0.0000e+00 - total_loss: 1.5813\n",
            "Model 2\n",
            "==============================\n",
            "2/2 [==============================] - 1s 60ms/step - RMSE: 1.1841 - loss: 14.7307 - regularization_loss: 0.0000e+00 - total_loss: 14.7307\n",
            "Model 3\n",
            "==============================\n",
            "2/2 [==============================] - 1s 46ms/step - RMSE: 0.9365 - loss: 0.8726 - regularization_loss: 0.0000e+00 - total_loss: 0.8726\n",
            "Model 1\n",
            "==============================\n",
            "2/2 [==============================] - 1s 46ms/step - RMSE: 1.0847 - loss: 1.5834 - regularization_loss: 0.0000e+00 - total_loss: 1.5834\n",
            "Model 2\n",
            "==============================\n",
            "2/2 [==============================] - 1s 46ms/step - RMSE: 1.2153 - loss: 14.2155 - regularization_loss: 0.0000e+00 - total_loss: 14.2155\n",
            "Model 3\n",
            "==============================\n",
            "2/2 [==============================] - 1s 43ms/step - RMSE: 0.9342 - loss: 0.8618 - regularization_loss: 0.0000e+00 - total_loss: 0.8618\n"
          ]
        }
      ]
    },
    {
      "cell_type": "code",
      "metadata": {
        "colab": {
          "base_uri": "https://localhost:8080/"
        },
        "id": "_tV48jDyM2S_",
        "outputId": "189985b4-1462-4435-d2a1-8c2b26b88b2e"
      },
      "source": [
        "print(\"DCN            RMSE mean: {:.4f}, stdv: {:.4f}\".format(\n",
        "    dcn_result[\"mean\"], dcn_result[\"stdv\"]))\n",
        "print(\"DCN (low-rank) RMSE mean: {:.4f}, stdv: {:.4f}\".format(\n",
        "    dcn_lr_result[\"mean\"], dcn_lr_result[\"stdv\"]))\n",
        "print(\"DNN            RMSE mean: {:.4f}, stdv: {:.4f}\".format(\n",
        "    dnn_result[\"mean\"], dnn_result[\"stdv\"]))"
      ],
      "execution_count": 38,
      "outputs": [
        {
          "output_type": "stream",
          "name": "stdout",
          "text": [
            "DCN            RMSE mean: 1.0256, stdv: 0.1312\n",
            "DCN (low-rank) RMSE mean: 1.0622, stdv: 0.0914\n",
            "DNN            RMSE mean: 1.0664, stdv: 0.1097\n"
          ]
        }
      ]
    },
    {
      "cell_type": "code",
      "metadata": {
        "colab": {
          "base_uri": "https://localhost:8080/",
          "height": 1000
        },
        "id": "Dg4wI11pNWJ4",
        "outputId": "a78c1390-676b-497b-df61-ee1a58bbe8a1"
      },
      "source": [
        "model = dcn_result[\"model\"][0]\n",
        "\n",
        "def visualize_feature_crossing(model):\n",
        "    mat = model._cross_layer._dense.kernel\n",
        "    features = model._all_features\n",
        "\n",
        "    block_norm = np.ones([len(features), len(features)])\n",
        "\n",
        "    dim = model.embedding_dimension\n",
        "\n",
        "    # Compute the norms of the blocks.\n",
        "    for i in range(len(features)):\n",
        "        for j in range(len(features)):\n",
        "            block = mat[i * dim:(i + 1) * dim,\n",
        "                        j * dim:(j + 1) * dim]\n",
        "            block_norm[i,j] = np.linalg.norm(block, ord=\"fro\")\n",
        "\n",
        "    print(features)\n",
        "\n",
        "    plt.rcParams['figure.figsize'] = [20, 20]\n",
        "\n",
        "    fig = plt.figure(figsize=(200,200))\n",
        "    im = plt.matshow(block_norm, cmap=plt.cm.Blues)\n",
        "    ax = plt.gca()\n",
        "    divider = make_axes_locatable(plt.gca())\n",
        "    cax = divider.append_axes(\"right\", size=\"5%\", pad=0.05)\n",
        "    plt.colorbar(im, cax=cax)\n",
        "    cax.tick_params(labelsize=10) \n",
        "    ax.set_xticks(np.arange(len(features)))\n",
        "    ax.set_yticks(np.arange(len(features)))\n",
        "    _ = ax.set_xticklabels([\"\"] + features, rotation=45, ha=\"left\", fontsize=10)\n",
        "    _ = ax.set_yticklabels([\"\"] + features, fontsize=10)\n",
        "    plt.show()\n",
        "\n",
        "visualize_feature_crossing(dcn_result[\"model\"][0])\n",
        "visualize_feature_crossing(dcn_result[\"model\"][1])\n",
        "visualize_feature_crossing(dcn_result[\"model\"][2])"
      ],
      "execution_count": 40,
      "outputs": [
        {
          "output_type": "stream",
          "name": "stdout",
          "text": [
            "ListWrapper(['selfrpt', 'proxyrpt', 'interrupt', 'subsample', 'subpopulation', 'urban18', 'psu', 'tb6_a18_p', 'outunit18', 'gene', 'gender', 'minzu', 'retire', 'pension', 'party', 'cyear', 'cmonth', 'age', 'qa701code', 'qc1', 'qc2', 'school', 'qc3', 'qc4', 'qc5', 'qgb1', 'qg1', 'qg101', 'qg2', 'qg201', 'qg12', 'qi101', 'qi1011', 'qn4001', 'qp201'])\n"
          ]
        },
        {
          "output_type": "display_data",
          "data": {
            "text/plain": [
              "<Figure size 14400x14400 with 0 Axes>"
            ]
          },
          "metadata": {}
        },
        {
          "output_type": "display_data",
          "data": {
            "image/png": "[encoded data removed]",
            "text/plain": [
              "<Figure size 1152x1152 with 2 Axes>"
            ]
          },
          "metadata": {
            "needs_background": "light"
          }
        },
        {
          "output_type": "stream",
          "name": "stdout",
          "text": [
            "ListWrapper(['selfrpt', 'proxyrpt', 'interrupt', 'subsample', 'subpopulation', 'urban18', 'psu', 'tb6_a18_p', 'outunit18', 'gene', 'gender', 'minzu', 'retire', 'pension', 'party', 'cyear', 'cmonth', 'age', 'qa701code', 'qc1', 'qc2', 'school', 'qc3', 'qc4', 'qc5', 'qgb1', 'qg1', 'qg101', 'qg2', 'qg201', 'qg12', 'qi101', 'qi1011', 'qn4001', 'qp201'])\n"
          ]
        },
        {
          "output_type": "display_data",
          "data": {
            "text/plain": [
              "<Figure size 14400x14400 with 0 Axes>"
            ]
          },
          "metadata": {}
        },
        {
          "output_type": "display_data",
          "data": {
            "image/png": "[encoded data removed]",
            "text/plain": [
              "<Figure size 1152x1152 with 2 Axes>"
            ]
          },
          "metadata": {
            "needs_background": "light"
          }
        },
        {
          "output_type": "stream",
          "name": "stdout",
          "text": [
            "ListWrapper(['selfrpt', 'proxyrpt', 'interrupt', 'subsample', 'subpopulation', 'urban18', 'psu', 'tb6_a18_p', 'outunit18', 'gene', 'gender', 'minzu', 'retire', 'pension', 'party', 'cyear', 'cmonth', 'age', 'qa701code', 'qc1', 'qc2', 'school', 'qc3', 'qc4', 'qc5', 'qgb1', 'qg1', 'qg101', 'qg2', 'qg201', 'qg12', 'qi101', 'qi1011', 'qn4001', 'qp201'])\n"
          ]
        },
        {
          "output_type": "display_data",
          "data": {
            "text/plain": [
              "<Figure size 14400x14400 with 0 Axes>"
            ]
          },
          "metadata": {}
        },
        {
          "output_type": "display_data",
          "data": {
            "image/png": "[encoded data removed]",
            "text/plain": [
              "<Figure size 1152x1152 with 2 Axes>"
            ]
          },
          "metadata": {
            "needs_background": "light"
          }
        }
      ]
    }
  ]
}