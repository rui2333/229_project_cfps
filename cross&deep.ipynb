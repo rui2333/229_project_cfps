{
  "nbformat": 4,
  "nbformat_minor": 0,
  "metadata": {
    "colab": {
      "name": "cross&deep.ipynb",
      "provenance": [],
      "collapsed_sections": [],
      "mount_file_id": "1GgrtdNs7KCNKOyEguwhwpsMRaG9s5yh7",
      "authorship_tag": "ABX9TyM10iaHRh54ePhpnQ8e9wa9",
      "include_colab_link": true
    },
    "kernelspec": {
      "name": "python3",
      "display_name": "Python 3"
    },
    "language_info": {
      "name": "python"
    }
  },
  "cells": [
    {
      "cell_type": "markdown",
      "metadata": {
        "id": "view-in-github",
        "colab_type": "text"
      },
      "source": [
        "<a href=\"https://colab.research.google.com/github/rui2333/229_project_cfps/blob/main/cross%26deep.ipynb\" target=\"_parent\"><img src=\"https://colab.research.google.com/assets/colab-badge.svg\" alt=\"Open In Colab\"/></a>"
      ]
    },
    {
      "cell_type": "markdown",
      "metadata": {
        "id": "oYUrNH8YSHsL"
      },
      "source": [
        "This note book focus on implementing DCN for the CFPS dataset.\n"
      ]
    },
    {
      "cell_type": "markdown",
      "metadata": {
        "id": "txURd8_KSZWo"
      },
      "source": [
        "# Deep and Cross network for CFPS\n",
        "## _Feature engineering network_\n",
        "\n",
        "DCN was designed to learn explicit and bounded-degree cross features more effectively. It starts with an input layer (typically an embedding layer), followed by a cross network containing multiple cross layers that models explicit feature interactions, and then combines with a deep network that models implicit feature interactions.\n",
        "\n",
        "- Deep and Cross Network\n",
        "- Implementation details"
      ]
    },
    {
      "cell_type": "markdown",
      "metadata": {
        "id": "BZ0FhIPySpie"
      },
      "source": [
        "## Introduction to data"
      ]
    },
    {
      "cell_type": "markdown",
      "metadata": {
        "id": "P4Wy_EUHStOi"
      },
      "source": [
        "### Pre-processing\n",
        "Steps for pre-processing data\n",
        "* Split data by training, validating, and testing set.\n",
        "* Remove data that contains personal information.\n",
        "* Drop all the nan data\n",
        "* Split ground truth with feature set."
      ]
    },
    {
      "cell_type": "markdown",
      "metadata": {
        "id": "o-JLwHWUggAn"
      },
      "source": [
        "#### Environment setup"
      ]
    },
    {
      "cell_type": "code",
      "metadata": {
        "id": "JGHCWo39SYOR"
      },
      "source": [
        "!pip install -q tensorflow-recommenders\n",
        "!pip install -q --upgrade tensorflow-datasets\n",
        "\n",
        "import pandas as pd\n",
        "import numpy as np\n",
        "import pprint\n",
        "\n",
        "%matplotlib inline\n",
        "import matplotlib.pyplot as plt\n",
        "\n",
        "from mpl_toolkits.axes_grid1 import make_axes_locatable\n",
        "\n",
        "import tensorflow as tf\n",
        "import tensorflow_datasets as tfds\n",
        "\n",
        "import tensorflow_recommenders as tfrs"
      ],
      "execution_count": 19,
      "outputs": []
    },
    {
      "cell_type": "code",
      "metadata": {
        "id": "xwjh8QbEb9Hq"
      },
      "source": [
        "y_cols = ['qn406','qn407','qn411','qn412','qn414','qn416','qn418','qn420']\n",
        "personal_info_cols = ['pid', 'code', 'fid18', 'fid16', 'fid14', 'fid12', 'fid10', 'pid_a_f', 'pid_a_m', 'releaseversion', 'interviewerid18']\n",
        "data_path = \"/content/drive/MyDrive/Colab Notebooks/ecfps2018person_202012.dta\"\n",
        "training_ratio = 0.60\n",
        "validation_ratio = 0.20\n",
        "test_ratio = 0.20"
      ],
      "execution_count": 2,
      "outputs": []
    },
    {
      "cell_type": "markdown",
      "metadata": {
        "id": "9idnp1YsgqdR"
      },
      "source": [
        "#### Helper function in pre-processing"
      ]
    },
    {
      "cell_type": "code",
      "metadata": {
        "id": "gc43c5i7cCG4"
      },
      "source": [
        "def load_dta(dta_path):\n",
        "    \"\"\"Load dataset into a pandas dataframe\"\"\"\n",
        "\n",
        "    data=pd.read_stata(dta_path,\n",
        "                       convert_categoricals=False,\n",
        "                       preserve_dtypes=False\n",
        "                      )\n",
        "    return data\n",
        "\n",
        "def drop_personal_info(data):\n",
        "    \"\"\"Drop personal info related columns\"\"\"\n",
        "    return data.drop(personal_info_cols, axis=1)\n",
        "\n",
        "def clean_up_na_values(data):\n",
        "    \"\"\"Remove all the rows that contains nan value\"\"\"\n",
        "    data.replace('', np.nan, inplace=True)\n",
        "    ground_truth, _ = split_groud_truth(data)\n",
        "    data = data.dropna(axis=1)\n",
        "    data = data.join(ground_truth)\n",
        "    data = data.dropna()\n",
        "    return data.astype('float32')\n",
        "def split_groud_truth(data):\n",
        "    \"\"\"Separate ground truth with traning features\"\"\"\n",
        "    return data[y_cols], data.drop(y_cols, axis=1)"
      ],
      "execution_count": 3,
      "outputs": []
    },
    {
      "cell_type": "markdown",
      "metadata": {
        "id": "n9m16Wjogww0"
      },
      "source": [
        "#### Prepare data"
      ]
    },
    {
      "cell_type": "code",
      "metadata": {
        "id": "19mf9LzagzHD"
      },
      "source": [
        "def pre_process():\n",
        "    data = load_dta(data_path)\n",
        "    data = drop_personal_info(data)\n",
        "    data = clean_up_na_values(data)\n",
        "    y, x = split_groud_truth(data)\n",
        "    # split data for different purpose\n",
        "    training_dataset = (\n",
        "        tf.data.Dataset.from_tensor_slices(\n",
        "            (\n",
        "                dict(x[: round(training_ratio * len(x))]),\n",
        "                dict(y[: round(training_ratio * len(y))])\n",
        "            )\n",
        "        )\n",
        "    )\n",
        "    validataion_dataset = (\n",
        "        tf.data.Dataset.from_tensor_slices(\n",
        "            (\n",
        "                dict(x[round(training_ratio * len(x)): round((training_ratio + validation_ratio) * len(x))]),\n",
        "                dict(y[round(training_ratio * len(x)): round((training_ratio + validation_ratio) * len(y))])\n",
        "            )\n",
        "        )  \n",
        "    )\n",
        "    test_dataset = (\n",
        "        tf.data.Dataset.from_tensor_slices(\n",
        "            (\n",
        "                dict(x[round((training_ratio + validation_ratio) * len(x)):]),\n",
        "                dict(y[round((training_ratio + validation_ratio) * len(y)):])\n",
        "            )\n",
        "        )\n",
        "    )\n",
        "    return training_dataset, validataion_dataset, test_dataset, list(x.columns.values), list(y.columns.values)\n",
        "\n",
        "training, validataion, test, features, labels = pre_process()\n"
      ],
      "execution_count": 4,
      "outputs": []
    },
    {
      "cell_type": "code",
      "metadata": {
        "id": "e6ul7QK5qSvE"
      },
      "source": [
        "def extract_features_from_tensor(dataset):\n",
        "    return dataset.map(lambda l, d: {\n",
        "        \"selfrpt\": l[\"selfrpt\"],\n",
        "        \"proxyrpt\": l[\"proxyrpt\"],\n",
        "        \"interrupt\": l[\"interrupt\"],\n",
        "        \"subsample\": l[\"subsample\"],\n",
        "        \"subpopulation\": l[\"subpopulation\"],\n",
        "        \"urban18\": l[\"urban18\"],\n",
        "        \"psu\": l[\"psu\"],\n",
        "        \"tb6_a18_p\": l[\"tb6_a18_p\"],\n",
        "        \"outunit18\": l[\"outunit18\"],\n",
        "        \"gene\": l[\"gene\"],\n",
        "        \"gender\": l[\"gender\"],\n",
        "        \"minzu\": l[\"minzu\"],\n",
        "        \"retire\": l[\"retire\"],\n",
        "        \"pension\": l[\"pension\"],\n",
        "        \"party\": l[\"party\"],\n",
        "        \"cyear\": l[\"cyear\"],\n",
        "        \"cmonth\": l[\"cmonth\"],\n",
        "        \"age\": l[\"age\"],\n",
        "        \"qa701code\": l[\"qa701code\"],\n",
        "        \"qc1\": l[\"qc1\"],\n",
        "        \"qc2\": l[\"qc2\"],\n",
        "        \"school\": l[\"school\"],\n",
        "        \"qc3\": l[\"qc3\"],\n",
        "        \"qc4\": l[\"qc4\"],\n",
        "        \"qc5\": l[\"qc5\"],\n",
        "        \"qgb1\": l[\"qgb1\"],\n",
        "        \"qg1\": l[\"qg1\"],\n",
        "        \"qg101\": l[\"qg101\"],\n",
        "        \"qg2\": l[\"qg2\"],\n",
        "        \"qg201\": l[\"qg201\"],\n",
        "        \"qg12\": l[\"qg12\"],\n",
        "        \"qi101\": l[\"qi101\"],\n",
        "        \"qi1011\": l[\"qi1011\"],\n",
        "        \"qn4001\": l[\"qn4001\"],\n",
        "        \"qp201\": l[\"qp201\"],\n",
        "        #\"qn406\": d[\"qn406\"],\n",
        "        #\"qn407\": d[\"qn407\"],\n",
        "        #\"qn411\": d[\"qn411\"],\n",
        "        #\"qn412\": d[\"qn412\"],\n",
        "        #\"qn414\": d[\"qn414\"],\n",
        "        #\"qn416\": d[\"qn416\"],\n",
        "        #\"qn418\": d[\"qn418\"],\n",
        "        #\"qn420\": d[\"qn420\"],\n",
        "        \"label\" : (d[\"qn406\"] + d[\"qn407\"] + d[\"qn411\"] + d[\"qn412\"] + \n",
        "                   d[\"qn414\"] + d[\"qn416\"] + d[\"qn418\"] + d[\"qn420\"]),\n",
        "    })\n",
        "\n",
        "training = extract_features_from_tensor(training)\n",
        "validataion = extract_features_from_tensor(validataion)\n",
        "test = extract_features_from_tensor(test)"
      ],
      "execution_count": 5,
      "outputs": []
    },
    {
      "cell_type": "code",
      "metadata": {
        "id": "DTf06JI8_xD_"
      },
      "source": [
        "vocabularies = {}\n",
        "\n",
        "for feature_name in features:\n",
        "    vocab = training.batch(len(training)).map(lambda d: d[feature_name])\n",
        "    vocabularies[feature_name] = np.unique(np.concatenate(list(vocab)))"
      ],
      "execution_count": 6,
      "outputs": []
    },
    {
      "cell_type": "markdown",
      "metadata": {
        "id": "YoPwJOkhHOqv"
      },
      "source": [
        "#### Model *construction*"
      ]
    },
    {
      "cell_type": "code",
      "metadata": {
        "id": "9zKUTVU7G5Lo"
      },
      "source": [
        "\n",
        "class DCN(tfrs.Model):\n",
        "    def __init__(self, use_cross_layer, deep_layer_sizes, projection_dim=None):\n",
        "        super().__init__()\n",
        "\n",
        "        self.embedding_dimension = 32\n",
        "\n",
        "        self._all_features = features\n",
        "        self._embeddings = {}\n",
        "        \n",
        "        # Compute embeddings for features.\n",
        "        for feature_name in features:\n",
        "            vocabulary = vocabularies[feature_name]\n",
        "            self._embeddings[feature_name] = tf.keras.Sequential(\n",
        "                [tf.keras.layers.IntegerLookup(\n",
        "                    vocabulary=vocabulary, mask_token=None, oov_token=-1000),\n",
        "                tf.keras.layers.Embedding(len(vocabulary) + 1,\n",
        "                                            self.embedding_dimension)\n",
        "            ])\n",
        "\n",
        "        if use_cross_layer:\n",
        "            self._cross_layer = tfrs.layers.dcn.Cross(\n",
        "                projection_dim=projection_dim,\n",
        "                kernel_initializer=\"glorot_uniform\")\n",
        "        else:\n",
        "            self._cross_layer = None\n",
        "\n",
        "        self._deep_layers = [tf.keras.layers.Dense(layer_size, activation=\"relu\")\n",
        "            for layer_size in deep_layer_sizes]\n",
        "\n",
        "        self._logit_layer = tf.keras.layers.Dense(1)\n",
        "\n",
        "        self.task = tfrs.tasks.Ranking(\n",
        "            loss=tf.keras.losses.MeanSquaredError(),\n",
        "            metrics=[tf.keras.metrics.RootMeanSquaredError(\"RMSE\")]\n",
        "        )\n",
        "\n",
        "    def call(self, features):\n",
        "        # Concatenate embeddings\n",
        "        embeddings = []\n",
        "        for feature_name in self._all_features:\n",
        "            embedding_fn = self._embeddings[feature_name]\n",
        "            embeddings.append(embedding_fn(features[feature_name]))\n",
        "\n",
        "        x = tf.concat(embeddings, axis=1)\n",
        "        print(x)\n",
        "\n",
        "        # Build Cross Network\n",
        "        if self._cross_layer is not None:\n",
        "            x = self._cross_layer(x)\n",
        "        \n",
        "        # Build Deep Network\n",
        "        for deep_layer in self._deep_layers:\n",
        "            x = deep_layer(x)\n",
        "\n",
        "        return self._logit_layer(x)\n",
        "\n",
        "    def compute_loss(self, features, training=False):\n",
        "        labels = features.pop(\"label\")\n",
        "        scores = self(features)\n",
        "        return self.task(\n",
        "            labels=labels,\n",
        "            predictions=scores,\n",
        "        )"
      ],
      "execution_count": 7,
      "outputs": []
    },
    {
      "cell_type": "markdown",
      "metadata": {
        "id": "B5t0dnmopV-b"
      },
      "source": [
        "#### Train the model"
      ]
    },
    {
      "cell_type": "code",
      "metadata": {
        "id": "t8uKAckP_NPY"
      },
      "source": [
        "cached_training = training.shuffle(len(training)).batch(8192).cache()\n",
        "cached_test = test.batch(4096).cache()"
      ],
      "execution_count": 8,
      "outputs": []
    },
    {
      "cell_type": "code",
      "metadata": {
        "id": "YbeiMbJbpY4h"
      },
      "source": [
        "def run_models(use_cross_layer, deep_layer_sizes, projection_dim=None, num_runs=5):\n",
        "    models = []\n",
        "    rmses = []\n",
        "\n",
        "    for i in range(num_runs):\n",
        "        model = DCN(use_cross_layer=use_cross_layer,\n",
        "                    deep_layer_sizes=deep_layer_sizes,\n",
        "                    projection_dim=projection_dim)\n",
        "        model.compile(optimizer=tf.keras.optimizers.Adam(learning_rate))\n",
        "        models.append(model)\n",
        "\n",
        "        model.fit(cached_training, epochs=epochs, verbose=False)\n",
        "        metrics = model.evaluate(cached_test, return_dict=True)\n",
        "        rmses.append(metrics[\"RMSE\"])\n",
        "\n",
        "    mean, stdv = np.average(rmses), np.std(rmses)\n",
        "\n",
        "    return {\"model\": models, \"mean\": mean, \"stdv\": stdv}"
      ],
      "execution_count": 9,
      "outputs": []
    },
    {
      "cell_type": "code",
      "metadata": {
        "colab": {
          "base_uri": "https://localhost:8080/"
        },
        "id": "luMaDO3qplOX",
        "outputId": "e6d38605-c7b4-4267-fb9a-2ce7009a62f4"
      },
      "source": [
        "epochs = 8\n",
        "learning_rate = 0.01\n",
        "dcn_result = run_models(use_cross_layer=True,\n",
        "                        deep_layer_sizes=[192, 192])"
      ],
      "execution_count": 10,
      "outputs": [
        {
          "output_type": "stream",
          "name": "stdout",
          "text": [
            "Tensor(\"dcn/concat:0\", shape=(None, 1120), dtype=float32)\n",
            "Tensor(\"dcn/concat:0\", shape=(None, 1120), dtype=float32)\n",
            "Tensor(\"dcn/concat:0\", shape=(None, 1120), dtype=float32)\n",
            "2/2 [==============================] - 1s 144ms/step - RMSE: 8.8465 - loss: 72.6209 - regularization_loss: 0.0000e+00 - total_loss: 72.6209\n",
            "Tensor(\"dcn_1/concat:0\", shape=(None, 1120), dtype=float32)\n",
            "Tensor(\"dcn_1/concat:0\", shape=(None, 1120), dtype=float32)\n",
            "Tensor(\"dcn_1/concat:0\", shape=(None, 1120), dtype=float32)\n",
            "2/2 [==============================] - 1s 154ms/step - RMSE: 9.0916 - loss: 77.5431 - regularization_loss: 0.0000e+00 - total_loss: 77.5431\n",
            "Tensor(\"dcn_2/concat:0\", shape=(None, 1120), dtype=float32)\n",
            "Tensor(\"dcn_2/concat:0\", shape=(None, 1120), dtype=float32)\n",
            "Tensor(\"dcn_2/concat:0\", shape=(None, 1120), dtype=float32)\n",
            "2/2 [==============================] - 1s 144ms/step - RMSE: 9.8717 - loss: 94.3808 - regularization_loss: 0.0000e+00 - total_loss: 94.3808\n",
            "Tensor(\"dcn_3/concat:0\", shape=(None, 1120), dtype=float32)\n",
            "Tensor(\"dcn_3/concat:0\", shape=(None, 1120), dtype=float32)\n",
            "Tensor(\"dcn_3/concat:0\", shape=(None, 1120), dtype=float32)\n",
            "2/2 [==============================] - 1s 144ms/step - RMSE: 10.1854 - loss: 100.4903 - regularization_loss: 0.0000e+00 - total_loss: 100.4903\n",
            "Tensor(\"dcn_4/concat:0\", shape=(None, 1120), dtype=float32)\n",
            "Tensor(\"dcn_4/concat:0\", shape=(None, 1120), dtype=float32)\n",
            "Tensor(\"dcn_4/concat:0\", shape=(None, 1120), dtype=float32)\n",
            "WARNING:tensorflow:5 out of the last 9 calls to <function Model.make_test_function.<locals>.test_function at 0x7fbe948040e0> triggered tf.function retracing. Tracing is expensive and the excessive number of tracings could be due to (1) creating @tf.function repeatedly in a loop, (2) passing tensors with different shapes, (3) passing Python objects instead of tensors. For (1), please define your @tf.function outside of the loop. For (2), @tf.function has experimental_relax_shapes=True option that relaxes argument shapes that can avoid unnecessary retracing. For (3), please refer to https://www.tensorflow.org/guide/function#controlling_retracing and https://www.tensorflow.org/api_docs/python/tf/function for  more details.\n",
            "2/2 [==============================] - 1s 142ms/step - RMSE: 8.0666 - loss: 60.7849 - regularization_loss: 0.0000e+00 - total_loss: 60.7849\n"
          ]
        }
      ]
    },
    {
      "cell_type": "code",
      "metadata": {
        "colab": {
          "base_uri": "https://localhost:8080/"
        },
        "id": "PGezyvh-K3vG",
        "outputId": "feb38faa-1636-4cad-9eb2-484afc8d4b1f"
      },
      "source": [
        "dcn_lr_result = run_models(use_cross_layer=True,\n",
        "                           projection_dim=20,\n",
        "                           deep_layer_sizes=[192, 192])"
      ],
      "execution_count": 11,
      "outputs": [
        {
          "output_type": "stream",
          "name": "stdout",
          "text": [
            "Tensor(\"dcn_5/concat:0\", shape=(None, 1120), dtype=float32)\n",
            "Tensor(\"dcn_5/concat:0\", shape=(None, 1120), dtype=float32)\n",
            "Tensor(\"dcn_5/concat:0\", shape=(None, 1120), dtype=float32)\n",
            "WARNING:tensorflow:6 out of the last 11 calls to <function Model.make_test_function.<locals>.test_function at 0x7fbe92db69e0> triggered tf.function retracing. Tracing is expensive and the excessive number of tracings could be due to (1) creating @tf.function repeatedly in a loop, (2) passing tensors with different shapes, (3) passing Python objects instead of tensors. For (1), please define your @tf.function outside of the loop. For (2), @tf.function has experimental_relax_shapes=True option that relaxes argument shapes that can avoid unnecessary retracing. For (3), please refer to https://www.tensorflow.org/guide/function#controlling_retracing and https://www.tensorflow.org/api_docs/python/tf/function for  more details.\n",
            "2/2 [==============================] - 1s 64ms/step - RMSE: 7.9499 - loss: 58.7393 - regularization_loss: 0.0000e+00 - total_loss: 58.7393\n",
            "Tensor(\"dcn_6/concat:0\", shape=(None, 1120), dtype=float32)\n",
            "Tensor(\"dcn_6/concat:0\", shape=(None, 1120), dtype=float32)\n",
            "Tensor(\"dcn_6/concat:0\", shape=(None, 1120), dtype=float32)\n",
            "2/2 [==============================] - 1s 45ms/step - RMSE: 8.5480 - loss: 68.0203 - regularization_loss: 0.0000e+00 - total_loss: 68.0203\n",
            "Tensor(\"dcn_7/concat:0\", shape=(None, 1120), dtype=float32)\n",
            "Tensor(\"dcn_7/concat:0\", shape=(None, 1120), dtype=float32)\n",
            "Tensor(\"dcn_7/concat:0\", shape=(None, 1120), dtype=float32)\n",
            "2/2 [==============================] - 1s 47ms/step - RMSE: 10.3465 - loss: 103.3602 - regularization_loss: 0.0000e+00 - total_loss: 103.3602\n",
            "Tensor(\"dcn_8/concat:0\", shape=(None, 1120), dtype=float32)\n",
            "Tensor(\"dcn_8/concat:0\", shape=(None, 1120), dtype=float32)\n",
            "Tensor(\"dcn_8/concat:0\", shape=(None, 1120), dtype=float32)\n",
            "2/2 [==============================] - 1s 46ms/step - RMSE: 7.9303 - loss: 58.4087 - regularization_loss: 0.0000e+00 - total_loss: 58.4087\n",
            "Tensor(\"dcn_9/concat:0\", shape=(None, 1120), dtype=float32)\n",
            "Tensor(\"dcn_9/concat:0\", shape=(None, 1120), dtype=float32)\n",
            "Tensor(\"dcn_9/concat:0\", shape=(None, 1120), dtype=float32)\n",
            "2/2 [==============================] - 1s 45ms/step - RMSE: 9.3737 - loss: 83.7022 - regularization_loss: 0.0000e+00 - total_loss: 83.7022\n"
          ]
        }
      ]
    },
    {
      "cell_type": "code",
      "metadata": {
        "colab": {
          "base_uri": "https://localhost:8080/"
        },
        "id": "Iqoys85UMyHK",
        "outputId": "423b6579-baa2-4597-cc69-567aa592d61e"
      },
      "source": [
        "dnn_result = run_models(use_cross_layer=False,\n",
        "                        deep_layer_sizes=[192, 192, 192])"
      ],
      "execution_count": 12,
      "outputs": [
        {
          "output_type": "stream",
          "name": "stdout",
          "text": [
            "Tensor(\"dcn_10/concat:0\", shape=(None, 1120), dtype=float32)\n",
            "Tensor(\"dcn_10/concat:0\", shape=(None, 1120), dtype=float32)\n",
            "Tensor(\"dcn_10/concat:0\", shape=(None, 1120), dtype=float32)\n",
            "2/2 [==============================] - 1s 46ms/step - RMSE: 8.0575 - loss: 60.2519 - regularization_loss: 0.0000e+00 - total_loss: 60.2519\n",
            "Tensor(\"dcn_11/concat:0\", shape=(None, 1120), dtype=float32)\n",
            "Tensor(\"dcn_11/concat:0\", shape=(None, 1120), dtype=float32)\n",
            "Tensor(\"dcn_11/concat:0\", shape=(None, 1120), dtype=float32)\n",
            "2/2 [==============================] - 1s 39ms/step - RMSE: 9.7995 - loss: 88.8692 - regularization_loss: 0.0000e+00 - total_loss: 88.8692\n",
            "Tensor(\"dcn_12/concat:0\", shape=(None, 1120), dtype=float32)\n",
            "Tensor(\"dcn_12/concat:0\", shape=(None, 1120), dtype=float32)\n",
            "Tensor(\"dcn_12/concat:0\", shape=(None, 1120), dtype=float32)\n",
            "2/2 [==============================] - 1s 40ms/step - RMSE: 7.8932 - loss: 57.7301 - regularization_loss: 0.0000e+00 - total_loss: 57.7301\n",
            "Tensor(\"dcn_13/concat:0\", shape=(None, 1120), dtype=float32)\n",
            "Tensor(\"dcn_13/concat:0\", shape=(None, 1120), dtype=float32)\n",
            "Tensor(\"dcn_13/concat:0\", shape=(None, 1120), dtype=float32)\n",
            "2/2 [==============================] - 0s 37ms/step - RMSE: 8.1171 - loss: 61.6166 - regularization_loss: 0.0000e+00 - total_loss: 61.6166\n",
            "Tensor(\"dcn_14/concat:0\", shape=(None, 1120), dtype=float32)\n",
            "Tensor(\"dcn_14/concat:0\", shape=(None, 1120), dtype=float32)\n",
            "Tensor(\"dcn_14/concat:0\", shape=(None, 1120), dtype=float32)\n",
            "2/2 [==============================] - 1s 41ms/step - RMSE: 8.1670 - loss: 62.1017 - regularization_loss: 0.0000e+00 - total_loss: 62.1017\n"
          ]
        }
      ]
    },
    {
      "cell_type": "code",
      "metadata": {
        "colab": {
          "base_uri": "https://localhost:8080/"
        },
        "id": "_tV48jDyM2S_",
        "outputId": "361740bd-bc18-4991-cbd9-440c92640363"
      },
      "source": [
        "print(\"DCN            RMSE mean: {:.4f}, stdv: {:.4f}\".format(\n",
        "    dcn_result[\"mean\"], dcn_result[\"stdv\"]))\n",
        "print(\"DCN (low-rank) RMSE mean: {:.4f}, stdv: {:.4f}\".format(\n",
        "    dcn_lr_result[\"mean\"], dcn_lr_result[\"stdv\"]))\n",
        "print(\"DNN            RMSE mean: {:.4f}, stdv: {:.4f}\".format(\n",
        "    dnn_result[\"mean\"], dnn_result[\"stdv\"]))"
      ],
      "execution_count": 13,
      "outputs": [
        {
          "output_type": "stream",
          "name": "stdout",
          "text": [
            "DCN            RMSE mean: 9.2124, stdv: 0.7540\n",
            "DCN (low-rank) RMSE mean: 8.8297, stdv: 0.9229\n",
            "DNN            RMSE mean: 8.4069, stdv: 0.7024\n"
          ]
        }
      ]
    },
    {
      "cell_type": "code",
      "metadata": {
        "colab": {
          "base_uri": "https://localhost:8080/",
          "height": 999
        },
        "id": "Dg4wI11pNWJ4",
        "outputId": "d37c680c-416c-48e2-ddff-8f1e1a29c5ed"
      },
      "source": [
        "model = dcn_result[\"model\"][0]\n",
        "mat = model._cross_layer._dense.kernel\n",
        "features = model._all_features\n",
        "\n",
        "block_norm = np.ones([len(features), len(features)])\n",
        "\n",
        "dim = model.embedding_dimension\n",
        "\n",
        "# Compute the norms of the blocks.\n",
        "for i in range(len(features)):\n",
        "  for j in range(len(features)):\n",
        "    block = mat[i * dim:(i + 1) * dim,\n",
        "                j * dim:(j + 1) * dim]\n",
        "    block_norm[i,j] = np.linalg.norm(block, ord=\"fro\")\n",
        "\n",
        "print(features)\n",
        "\n",
        "plt.rcParams['figure.figsize'] = [20, 20]\n",
        "\n",
        "fig = plt.figure(figsize=(200,200))\n",
        "im = plt.matshow(block_norm, cmap=plt.cm.Blues)\n",
        "ax = plt.gca()\n",
        "divider = make_axes_locatable(plt.gca())\n",
        "cax = divider.append_axes(\"right\", size=\"5%\", pad=0.05)\n",
        "plt.colorbar(im, cax=cax)\n",
        "cax.tick_params(labelsize=10) \n",
        "_ = ax.set_xticklabels([\"\"] + features, rotation=45, ha=\"left\", fontsize=10)\n",
        "_ = ax.set_yticklabels([\"\"] + features, fontsize=10)\n",
        "plt.show()"
      ],
      "execution_count": 22,
      "outputs": [
        {
          "output_type": "stream",
          "name": "stdout",
          "text": [
            "ListWrapper(['selfrpt', 'proxyrpt', 'interrupt', 'subsample', 'subpopulation', 'urban18', 'psu', 'tb6_a18_p', 'outunit18', 'gene', 'gender', 'minzu', 'retire', 'pension', 'party', 'cyear', 'cmonth', 'age', 'qa701code', 'qc1', 'qc2', 'school', 'qc3', 'qc4', 'qc5', 'qgb1', 'qg1', 'qg101', 'qg2', 'qg201', 'qg12', 'qi101', 'qi1011', 'qn4001', 'qp201'])\n"
          ]
        },
        {
          "output_type": "display_data",
          "data": {
            "text/plain": [
              "<Figure size 14400x14400 with 0 Axes>"
            ]
          },
          "metadata": {}
        },
        {
          "output_type": "display_data",
          "data": {
            "image/png": "[encoded data removed]",
            "text/plain": [
              "<Figure size 1152x1152 with 2 Axes>"
            ]
          },
          "metadata": {
            "needs_background": "light"
          }
        }
      ]
    }
  ]
}